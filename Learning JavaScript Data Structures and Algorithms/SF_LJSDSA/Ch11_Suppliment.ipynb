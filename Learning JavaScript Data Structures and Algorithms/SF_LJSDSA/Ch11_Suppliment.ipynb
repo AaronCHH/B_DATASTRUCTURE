{
 "cells": [
  {
   "cell_type": "markdown",
   "metadata": {},
   "source": [
    "# 第11章 演算法補充知識"
   ]
  },
  {
   "cell_type": "markdown",
   "metadata": {},
   "source": [
    "<div id=\"toc\"></div>"
   ]
  },
  {
   "cell_type": "markdown",
   "metadata": {},
   "source": [
    "## 11.1 遞迴"
   ]
  },
  {
   "cell_type": "markdown",
   "metadata": {},
   "source": [
    "* JavaScript呼叫堆疊大小的限制 "
   ]
  },
  {
   "cell_type": "markdown",
   "metadata": {},
   "source": [
    "* 斐波那契數列 "
   ]
  },
  {
   "cell_type": "code",
   "execution_count": null,
   "metadata": {
    "collapsed": true
   },
   "outputs": [],
   "source": [
    "# %load chapter11/01-Recursion.js\n",
    "//Recursive solution - DP\n",
    "function fibonacci(num){\n",
    "    if (num === 1 || num === 2){\n",
    "        return 1;\n",
    "    }\n",
    "    if (num > 2){\n",
    "        return fibonacci(num - 1) + fibonacci(num - 2);\n",
    "    }\n",
    "}\n",
    "\n",
    "//Non Recursive solution\n",
    "function fib(num){\n",
    "    var n1 = 1,\n",
    "        n2 = 1,\n",
    "        n = 1;\n",
    "    for (var i = 3; i<=num; i++){\n",
    "        n = n1 + n2;\n",
    "        n1 = n2;\n",
    "        n2 = n;\n",
    "    }\n",
    "    return n;\n",
    "}\n",
    "\n",
    "console.log(fibonacci(6));\n",
    "console.log(fib(6));"
   ]
  },
  {
   "cell_type": "code",
   "execution_count": null,
   "metadata": {
    "collapsed": true
   },
   "outputs": [],
   "source": [
    "# %load chapter11/02-InfiniteRecursion.js\n",
    "var i = 0;\n",
    "\n",
    "function recursiveFn () {\n",
    "    i++;\n",
    "    recursiveFn();\n",
    "}\n",
    "\n",
    "try {\n",
    "    recursiveFn();\n",
    "} catch (ex) {\n",
    "    alert('i = ' + i + ' error: ' + ex);\n",
    "}\n",
    "\n",
    "//chrome 37 = 20955 RangeError: Maximum call stack size exceeded\n",
    "//ff 27 = 343429  InternalError: too much recursion"
   ]
  },
  {
   "cell_type": "markdown",
   "metadata": {},
   "source": [
    "## 11.2 動態規劃"
   ]
  },
  {
   "cell_type": "markdown",
   "metadata": {},
   "source": [
    "* 最少硬幣找零問題 "
   ]
  },
  {
   "cell_type": "code",
   "execution_count": null,
   "metadata": {
    "collapsed": true
   },
   "outputs": [],
   "source": [
    "# %load chapter11/03-MinCoinChangeDP.js\n",
    "function MinCoinChange(coins){\n",
    "\n",
    "    var coins = coins;\n",
    "\n",
    "    var cache = {};\n",
    "\n",
    "    this.makeChange = function(amount) {\n",
    "        var me = this;\n",
    "        if (!amount) {\n",
    "            return [];\n",
    "        }\n",
    "        if (cache[amount]) {\n",
    "            return cache[amount];\n",
    "        }\n",
    "        var min = [], newMin, newAmount;\n",
    "        for (var i=0; i<coins.length; i++){\n",
    "            var coin = coins[i];\n",
    "            newAmount = amount - coin;\n",
    "            if (newAmount >= 0){\n",
    "                newMin = me.makeChange(newAmount);\n",
    "            }\n",
    "            if (\n",
    "                newAmount >= 0 &&\n",
    "                (newMin.length < min.length-1 || !min.length) &&\n",
    "                (newMin.length || !newAmount)\n",
    "                ){\n",
    "                min = [coin].concat(newMin);\n",
    "                console.log('new Min ' + min + ' for ' + amount);\n",
    "            }\n",
    "        }\n",
    "        return (cache[amount] = min);\n",
    "    };\n",
    "}\n",
    "\n",
    "\n",
    "var minCoinChange = new MinCoinChange([1, 5, 10, 25]);\n",
    "console.log(minCoinChange.makeChange(36));\n",
    "\n",
    "var minCoinChange2 = new MinCoinChange([1, 3, 4]);\n",
    "console.log(minCoinChange2.makeChange(6));"
   ]
  },
  {
   "cell_type": "markdown",
   "metadata": {},
   "source": [
    "## 11.3 食婪演算法 "
   ]
  },
  {
   "cell_type": "markdown",
   "metadata": {},
   "source": [
    "* 最少硬幣找零問題 "
   ]
  },
  {
   "cell_type": "code",
   "execution_count": null,
   "metadata": {
    "collapsed": true
   },
   "outputs": [],
   "source": [
    "# %load chapter11/04-MinCoinChangeGreedy.js\n",
    "function MinCoinChange(coins){\n",
    "\n",
    "    var coins = coins;\n",
    "\n",
    "    var cache = {};\n",
    "\n",
    "    this.makeChange = function(amount) {\n",
    "        var change = [],\n",
    "            total = 0;\n",
    "        for (var i=coins.length; i>=0; i--){\n",
    "            var coin = coins[i];\n",
    "            while (total + coin <= amount) {\n",
    "                change.push(coin);\n",
    "                total += coin;\n",
    "            }\n",
    "        }\n",
    "        return change;\n",
    "    };\n",
    "}\n",
    "\n",
    "\n",
    "var minCoinChange = new MinCoinChange([1, 5, 10, 25]);\n",
    "console.log(minCoinChange.makeChange(36));\n",
    "\n",
    "var minCoinChange2 = new MinCoinChange([1, 3, 4]);\n",
    "console.log(minCoinChange2.makeChange(6));"
   ]
  },
  {
   "cell_type": "markdown",
   "metadata": {},
   "source": [
    "## 11.4 大O表示法 "
   ]
  },
  {
   "cell_type": "code",
   "execution_count": null,
   "metadata": {
    "collapsed": true
   },
   "outputs": [],
   "source": [
    "# %load chapter11/bigOChart/chart.js\n",
    "google.load('visualization', '1.0', {'packages':['corechart']});\n",
    "google.setOnLoadCallback(drawChart);\n",
    "\n",
    "function drawChart() {\n",
    "\n",
    "    var data = new google.visualization.DataTable();\n",
    "    data.addColumn('string', 'n');\n",
    "    data.addColumn('number', 'O(1)');\n",
    "    data.addColumn('number', 'O(log n)');\n",
    "    data.addColumn('number', 'O(n)');\n",
    "    data.addColumn('number', 'O(n log n)');\n",
    "    data.addColumn('number', 'O(n^2)');\n",
    "    data.addColumn('number', 'O(2^n)');\n",
    "\n",
    "    for (var i = 0; i <= 30; i++) {\n",
    "        data.addRow([i+'', 1, Math.log(i), i, Math.log(i)*i, Math.pow(i,2), Math.pow(2,i)]);\n",
    "    }\n",
    "\n",
    "    var options = {'title':'Big O Notation Complexity Chart',\n",
    "        'width':700,\n",
    "        'height':600,\n",
    "        'backgroundColor':{stroke:'#CCC',strokeWidth:1},\n",
    "        'curveType':'function',\n",
    "        'hAxis':{\n",
    "            title:'Elements (n)',\n",
    "            showTextEvery:5\n",
    "        },\n",
    "        'vAxis':{\n",
    "            title:'Operations',\n",
    "            viewWindowMode:'explicit',\n",
    "            viewWindow:{min:0,max:450}\n",
    "        }\n",
    "    };\n",
    "\n",
    "    var chart = new google.visualization.LineChart(document.getElementById('chart_div'));\n",
    "    chart.draw(data, options);\n",
    "}"
   ]
  },
  {
   "cell_type": "markdown",
   "metadata": {},
   "source": [
    "* 理解大O表示法 "
   ]
  },
  {
   "cell_type": "markdown",
   "metadata": {},
   "source": [
    "* 時間複雜度比較 "
   ]
  },
  {
   "cell_type": "markdown",
   "metadata": {},
   "source": [
    "## 11.5 從演算法實戰中獲得樂趣"
   ]
  },
  {
   "cell_type": "markdown",
   "metadata": {},
   "source": [
    "## 11.6 小結"
   ]
  },
  {
   "cell_type": "code",
   "execution_count": null,
   "metadata": {
    "collapsed": true
   },
   "outputs": [],
   "source": []
  }
 ],
 "metadata": {
  "kernelspec": {
   "display_name": "Python 3",
   "language": "python",
   "name": "python3"
  },
  "language_info": {
   "codemirror_mode": {
    "name": "ipython",
    "version": 3
   },
   "file_extension": ".py",
   "mimetype": "text/x-python",
   "name": "python",
   "nbconvert_exporter": "python",
   "pygments_lexer": "ipython3",
   "version": "3.6.0"
  }
 },
 "nbformat": 4,
 "nbformat_minor": 2
}
