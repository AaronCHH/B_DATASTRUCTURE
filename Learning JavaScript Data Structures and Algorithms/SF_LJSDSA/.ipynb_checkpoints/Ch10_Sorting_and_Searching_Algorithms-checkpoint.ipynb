{
 "cells": [
  {
   "cell_type": "markdown",
   "metadata": {},
   "source": [
    "# Ch10 Sorting and Searching Algorithms"
   ]
  },
  {
   "cell_type": "markdown",
   "metadata": {},
   "source": [
    "<div id=\"toc\"></div>"
   ]
  },
  {
   "cell_type": "markdown",
   "metadata": {},
   "source": [
    "## 10.1 Sorting algorithms"
   ]
  },
  {
   "cell_type": "code",
   "execution_count": null,
   "metadata": {
    "collapsed": true
   },
   "outputs": [],
   "source": [
    "# %load chapter10/01-SortingSearchingAlgorithms.js\n",
    "function ArrayList(){\n",
    "\n",
    "    var array = [];\n",
    "\n",
    "    this.insert = function(item){\n",
    "        array.push(item);\n",
    "    };\n",
    "\n",
    "    var swap = function(index1, index2){\n",
    "        var aux = array[index1];\n",
    "        array[index1] = array[index2];\n",
    "        array[index2] = aux;\n",
    "    };\n",
    "\n",
    "    this.toString= function(){\n",
    "        return array.join();\n",
    "    };\n",
    "\n",
    "    this.bubbleSort = function(){\n",
    "        var length = array.length;\n",
    "\n",
    "        for (var i=0; i<length; i++){\n",
    "            console.log('--- ');\n",
    "            for (var j=0; j<length-1; j++ ){\n",
    "                console.log('compare ' + array[j] + ' with ' + array[j+1]);\n",
    "                if (array[j] > array[j+1]){\n",
    "                    console.log('swap ' + array[j] + ' with ' + array[j+1]);\n",
    "                    swap(j, j+1);\n",
    "                }\n",
    "            }\n",
    "        }\n",
    "    };\n",
    "\n",
    "    this.modifiedBubbleSort = function(){\n",
    "        var length = array.length;\n",
    "\n",
    "        for (var i=0; i<length; i++){\n",
    "            console.log('--- ');\n",
    "            for (var j=0; j<length-1-i; j++ ){\n",
    "                console.log('compare ' + array[j] + ' with ' + array[j+1]);\n",
    "                if (array[j] > array[j+1]){\n",
    "                    console.log('swap ' + array[j] + ' with ' + array[j+1]);\n",
    "                    swap(j, j+1);\n",
    "                }\n",
    "            }\n",
    "        }\n",
    "\n",
    "    };\n",
    "\n",
    "    this.selectionSort = function(){\n",
    "        var length = array.length,\n",
    "            indexMin;\n",
    "\n",
    "        for (var i=0; i<length-1; i++){\n",
    "            indexMin = i;\n",
    "            console.log('index ' + array[i]);\n",
    "            for (var j=i; j<length; j++){\n",
    "                if(array[indexMin]>array[j]){\n",
    "                    console.log('new index min ' + array[j]);\n",
    "                    indexMin = j;\n",
    "                }\n",
    "            }\n",
    "            if (i !== indexMin){\n",
    "                console.log('swap ' + array[i] + ' with ' + array[indexMin]);\n",
    "                swap(i, indexMin);\n",
    "            }\n",
    "        }\n",
    "    };\n",
    "\n",
    "    this.insertionSort = function(){\n",
    "        var length = array.length,\n",
    "            j, temp;\n",
    "        for (var i=1; i<length; i++){\n",
    "            j = i;\n",
    "            temp = array[i];\n",
    "            console.log('to be inserted ' + temp);\n",
    "            while (j>0 && array[j-1] > temp){\n",
    "                console.log('shift ' + array[j-1]);\n",
    "                array[j] = array[j-1];\n",
    "                j--;\n",
    "            }\n",
    "            console.log('insert ' + temp);\n",
    "            array[j] = temp;\n",
    "        }\n",
    "    };\n",
    "\n",
    "    this.mergeSort = function(){\n",
    "        array = mergeSortRec(array);\n",
    "    };\n",
    "\n",
    "    var mergeSortRec = function(array){\n",
    "\n",
    "        var length = array.length;\n",
    "\n",
    "        if(length === 1) {\n",
    "            console.log(array);\n",
    "            return array;\n",
    "        }\n",
    "\n",
    "        var mid = Math.floor(length / 2),\n",
    "            left = array.slice(0, mid),\n",
    "            right = array.slice(mid, length);\n",
    "\n",
    "        return merge(mergeSortRec(left), mergeSortRec(right));\n",
    "    };\n",
    "\n",
    "    var merge = function(left, right){\n",
    "        var result = [],\n",
    "            il = 0,\n",
    "            ir = 0;\n",
    "\n",
    "        while(il < left.length && ir < right.length) {\n",
    "\n",
    "            if(left[il] < right[ir]) {\n",
    "                result.push(left[il++]);\n",
    "            } else{\n",
    "                result.push(right[ir++]);\n",
    "            }\n",
    "        }\n",
    "\n",
    "        while (il < left.length){\n",
    "            result.push(left[il++]);\n",
    "        }\n",
    "\n",
    "        while (ir < right.length){\n",
    "            result.push(right[ir++]);\n",
    "        }\n",
    "\n",
    "        console.log(result);\n",
    "\n",
    "        return result;\n",
    "    };\n",
    "\n",
    "    this.quickSort = function(){\n",
    "        quick(array,  0, array.length - 1);\n",
    "    };\n",
    "\n",
    "    var partition = function(array, left, right) {\n",
    "\n",
    "        var pivot = array[Math.floor((right + left) / 2)],\n",
    "            i = left,\n",
    "            j = right;\n",
    "\n",
    "        console.log('pivot is ' + pivot + '; left is ' + left + '; right is ' + right);\n",
    "\n",
    "        while (i <= j) {\n",
    "            while (array[i] < pivot) {\n",
    "                i++;\n",
    "                console.log('i = ' + i);\n",
    "            }\n",
    "\n",
    "            while (array[j] > pivot) {\n",
    "                j--;\n",
    "                console.log('j = ' + j);\n",
    "            }\n",
    "\n",
    "            if (i <= j) {\n",
    "                console.log('swap ' + array[i] + ' with ' + array[j]);\n",
    "                swapQuickStort(array, i, j);\n",
    "                i++;\n",
    "                j--;\n",
    "            }\n",
    "        }\n",
    "\n",
    "        return i;\n",
    "    };\n",
    "\n",
    "    var swapQuickStort = function(array, index1, index2){\n",
    "        var aux = array[index1];\n",
    "        array[index1] = array[index2];\n",
    "        array[index2] = aux;\n",
    "    };\n",
    "\n",
    "    var quick = function(array, left, right){\n",
    "\n",
    "        var index;\n",
    "\n",
    "        if (array.length > 1) {\n",
    "\n",
    "            index = partition(array, left, right);\n",
    "\n",
    "            if (left < index - 1) {\n",
    "                quick(array, left, index - 1);\n",
    "            }\n",
    "\n",
    "            if (index < right) {\n",
    "                quick(array, index, right);\n",
    "            }\n",
    "        }\n",
    "        return array;\n",
    "    };\n",
    "\n",
    "    this.sequentialSearch = function(item){\n",
    "\n",
    "        for (var i=0; i<array.length; i++){\n",
    "            if (item === array[i]){\n",
    "                return i;\n",
    "            }\n",
    "        }\n",
    "\n",
    "        return -1;\n",
    "    };\n",
    "\n",
    "    this.findMaxValue = function(){\n",
    "        var max = array[0];\n",
    "        for (var i=1; i<array.length; i++){\n",
    "            if (max < array[i]){\n",
    "                max = array[i];\n",
    "            }\n",
    "        }\n",
    "\n",
    "        return max;\n",
    "    };\n",
    "\n",
    "    this.findMinValue = function(){\n",
    "        var min = array[0];\n",
    "        for (var i=1; i<array.length; i++){\n",
    "            if (min > array[i]){\n",
    "                min = array[i];\n",
    "            }\n",
    "        }\n",
    "\n",
    "        return min;\n",
    "    };\n",
    "\n",
    "    this.binarySearch = function(item){\n",
    "        this.quickSort();\n",
    "\n",
    "        var low = 0,\n",
    "            high = array.length - 1,\n",
    "            mid, element;\n",
    "\n",
    "        while (low <= high){\n",
    "            mid = Math.floor((low + high) / 2);\n",
    "            element = array[mid];\n",
    "            console.log('mid element is ' + element);\n",
    "            if (element < item) {\n",
    "                low = mid + 1;\n",
    "                console.log('low is ' + low);\n",
    "            } else if (element > item) {\n",
    "                high = mid - 1;\n",
    "                console.log('high is ' + high);\n",
    "            } else {\n",
    "                console.log('found it');\n",
    "                return mid;\n",
    "            }\n",
    "        }\n",
    "        return -1;\n",
    "    };\n",
    "\n",
    "}"
   ]
  },
  {
   "cell_type": "code",
   "execution_count": null,
   "metadata": {
    "collapsed": true
   },
   "outputs": [],
   "source": [
    "# %load chapter10/02-UsingSortingAlgorithms.js\n",
    "function createNonSortedArray(size){\n",
    "    var array = new ArrayList();\n",
    "\n",
    "    for (var i = size; i> 0; i--){\n",
    "        array.insert(i);\n",
    "    }\n",
    "\n",
    "    return array;\n",
    "}\n",
    "\n",
    "function createRandomNonSortedArray(){\n",
    "    var array = new ArrayList();\n",
    "\n",
    "    array.insert(3);\n",
    "    array.insert(5);\n",
    "    array.insert(1);\n",
    "    array.insert(4);\n",
    "    array.insert(2);\n",
    "\n",
    "    return array;\n",
    "}"
   ]
  },
  {
   "cell_type": "markdown",
   "metadata": {},
   "source": [
    "* Bubble sort"
   ]
  },
  {
   "cell_type": "code",
   "execution_count": null,
   "metadata": {
    "collapsed": true
   },
   "outputs": [],
   "source": [
    "console.log('********** Bubble Sort **********');\n",
    "\n",
    "var array = createNonSortedArray(5);\n",
    "\n",
    "console.log(array.toString());\n",
    "\n",
    "array.bubbleSort();\n",
    "\n",
    "console.log(array.toString());"
   ]
  },
  {
   "cell_type": "code",
   "execution_count": null,
   "metadata": {
    "collapsed": true
   },
   "outputs": [],
   "source": [
    "console.log('********** Modified Bubble Sort **********');\n",
    "\n",
    "array = createNonSortedArray(5);\n",
    "\n",
    "console.log(array.toString());\n",
    "\n",
    "array.modifiedBubbleSort();\n",
    "\n",
    "console.log(array.toString());"
   ]
  },
  {
   "cell_type": "markdown",
   "metadata": {},
   "source": [
    "* Selection sort"
   ]
  },
  {
   "cell_type": "code",
   "execution_count": null,
   "metadata": {
    "collapsed": true
   },
   "outputs": [],
   "source": [
    "console.log('********** Selection Sort **********');\n",
    "\n",
    "array = createNonSortedArray(5);\n",
    "\n",
    "console.log(array.toString());\n",
    "\n",
    "array.selectionSort();\n",
    "\n",
    "console.log(array.toString());"
   ]
  },
  {
   "cell_type": "markdown",
   "metadata": {},
   "source": [
    "* Insertion sort"
   ]
  },
  {
   "cell_type": "code",
   "execution_count": null,
   "metadata": {
    "collapsed": true
   },
   "outputs": [],
   "source": [
    "console.log('********** Insertion Sort **********');\n",
    "\n",
    "array = createRandomNonSortedArray();\n",
    "\n",
    "console.log(array.toString());\n",
    "\n",
    "array.insertionSort();\n",
    "\n",
    "console.log(array.toString());"
   ]
  },
  {
   "cell_type": "markdown",
   "metadata": {},
   "source": [
    "* Merge sort"
   ]
  },
  {
   "cell_type": "code",
   "execution_count": null,
   "metadata": {
    "collapsed": true
   },
   "outputs": [],
   "source": [
    "console.log('********** Merge Sort **********');\n",
    "\n",
    "array = createNonSortedArray(8);\n",
    "\n",
    "console.log(array.toString());\n",
    "\n",
    "array.mergeSort();\n",
    "\n",
    "console.log(array.toString());"
   ]
  },
  {
   "cell_type": "markdown",
   "metadata": {},
   "source": [
    "* Quick sort"
   ]
  },
  {
   "cell_type": "code",
   "execution_count": null,
   "metadata": {
    "collapsed": true
   },
   "outputs": [],
   "source": [
    "console.log('********** Quick Sort **********');\n",
    "array = new ArrayList();\n",
    "\n",
    "array.insert(3);\n",
    "array.insert(5);\n",
    "array.insert(1);\n",
    "array.insert(6);\n",
    "array.insert(4);\n",
    "array.insert(7);\n",
    "array.insert(2);\n",
    "\n",
    "console.log(array.toString());\n",
    "\n",
    "array.quickSort();\n",
    "\n",
    "console.log(array.toString());"
   ]
  },
  {
   "cell_type": "markdown",
   "metadata": {},
   "source": [
    "## 10.2 Searching algorithms"
   ]
  },
  {
   "cell_type": "code",
   "execution_count": null,
   "metadata": {
    "collapsed": true
   },
   "outputs": [],
   "source": [
    "# %load chapter10/03-UsingSearchingAlgorithms.js\n",
    "function createNonSortedArray(items){\n",
    "    var array = new ArrayList();\n",
    "\n",
    "    for (var i = items; i> 0; i--){\n",
    "        array.insert(i);\n",
    "    }\n",
    "\n",
    "    return array;\n",
    "}\n",
    "\n",
    "var array = createNonSortedArray(5);"
   ]
  },
  {
   "cell_type": "markdown",
   "metadata": {},
   "source": [
    "* Sequential search"
   ]
  },
  {
   "cell_type": "code",
   "execution_count": null,
   "metadata": {
    "collapsed": true
   },
   "outputs": [],
   "source": [
    "console.log('********** Sequential Sort #3 **********');\n",
    "\n",
    "console.log(array.sequentialSearch(3));"
   ]
  },
  {
   "cell_type": "code",
   "execution_count": null,
   "metadata": {
    "collapsed": true
   },
   "outputs": [],
   "source": [
    "console.log('********** Min **********');\n",
    "\n",
    "console.log(array.findMinValue());"
   ]
  },
  {
   "cell_type": "code",
   "execution_count": null,
   "metadata": {
    "collapsed": true
   },
   "outputs": [],
   "source": [
    "console.log('********** Max **********');\n",
    "\n",
    "console.log(array.findMaxValue());"
   ]
  },
  {
   "cell_type": "markdown",
   "metadata": {},
   "source": [
    "* Binary search"
   ]
  },
  {
   "cell_type": "code",
   "execution_count": null,
   "metadata": {
    "collapsed": true
   },
   "outputs": [],
   "source": [
    "console.log('********** Binary Search #3 **********');\n",
    "\n",
    "console.log(array.binarySearch(3));"
   ]
  },
  {
   "cell_type": "code",
   "execution_count": null,
   "metadata": {
    "collapsed": true
   },
   "outputs": [],
   "source": [
    "console.log('********** Binary Search #2 **********');\n",
    "\n",
    "var array = createNonSortedArray(8);\n",
    "\n",
    "console.log(array.binarySearch(2));"
   ]
  },
  {
   "cell_type": "markdown",
   "metadata": {},
   "source": [
    "## 10.3 Summary"
   ]
  },
  {
   "cell_type": "code",
   "execution_count": null,
   "metadata": {
    "collapsed": true
   },
   "outputs": [],
   "source": []
  }
 ],
 "metadata": {
  "kernelspec": {
   "display_name": "Python 3",
   "language": "python",
   "name": "python3"
  },
  "language_info": {
   "codemirror_mode": {
    "name": "ipython",
    "version": 3
   },
   "file_extension": ".py",
   "mimetype": "text/x-python",
   "name": "python",
   "nbconvert_exporter": "python",
   "pygments_lexer": "ipython3",
   "version": "3.6.0"
  }
 },
 "nbformat": 4,
 "nbformat_minor": 2
}
