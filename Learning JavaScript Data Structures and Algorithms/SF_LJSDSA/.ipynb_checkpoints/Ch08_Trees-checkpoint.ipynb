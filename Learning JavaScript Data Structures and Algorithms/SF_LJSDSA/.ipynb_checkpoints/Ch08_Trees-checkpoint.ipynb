{
 "cells": [
  {
   "cell_type": "markdown",
   "metadata": {},
   "source": [
    "# Ch08 Trees"
   ]
  },
  {
   "cell_type": "markdown",
   "metadata": {},
   "source": [
    "<div id=\"toc\"></div>"
   ]
  },
  {
   "cell_type": "markdown",
   "metadata": {},
   "source": [
    "## 8.1 Trees terminology"
   ]
  },
  {
   "cell_type": "markdown",
   "metadata": {},
   "source": [
    "## 8.2 Binary tree and binary search tree"
   ]
  },
  {
   "cell_type": "markdown",
   "metadata": {},
   "source": [
    "* Creating the BinarySearchTree class"
   ]
  },
  {
   "cell_type": "code",
   "execution_count": null,
   "metadata": {
    "collapsed": true
   },
   "outputs": [],
   "source": [
    "# %load chapter08/01-BinarySearchTree.js\n",
    "function BinarySearchTree() {\n",
    "\n",
    "  var Node = function (key) {\n",
    "    this.key = key;\n",
    "    this.left = null;\n",
    "    this.right = null;\n",
    "  };\n",
    "\n",
    "  var root = null;\n",
    "\n",
    "  this.insert = function (key) {\n",
    "\n",
    "    var newNode = new Node(key);\n",
    "\n",
    "    //special case - first element\n",
    "    if (root === null) {\n",
    "      root = newNode;\n",
    "    } else {\n",
    "      insertNode(root, newNode);\n",
    "    }\n",
    "  };\n",
    "\n",
    "  var insertNode = function (node, newNode) {\n",
    "    if (newNode.key < node.key) {\n",
    "      if (node.left === null) {\n",
    "        node.left = newNode;\n",
    "      } else {\n",
    "        insertNode(node.left, newNode);\n",
    "      }\n",
    "    } else {\n",
    "      if (node.right === null) {\n",
    "        node.right = newNode;\n",
    "      } else {\n",
    "        insertNode(node.right, newNode);\n",
    "      }\n",
    "    }\n",
    "  };\n",
    "\n",
    "  this.getRoot = function () {\n",
    "    return root;\n",
    "  };\n",
    "\n",
    "  this.search = function (key) {\n",
    "\n",
    "    return searchNode(root, key);\n",
    "  };\n",
    "\n",
    "  var searchNode = function (node, key) {\n",
    "\n",
    "    if (node === null) {\n",
    "      return false;\n",
    "    }\n",
    "\n",
    "    if (key < node.key) {\n",
    "      return searchNode(node.left, key);\n",
    "\n",
    "    } else if (key > node.key) {\n",
    "      return searchNode(node.right, key);\n",
    "\n",
    "    } else { //element is equal to node.item\n",
    "      return true;\n",
    "    }\n",
    "  };\n",
    "\n",
    "  this.inOrderTraverse = function (callback) {\n",
    "    inOrderTraverseNode(root, callback);\n",
    "  };\n",
    "\n",
    "  var inOrderTraverseNode = function (node, callback) {\n",
    "    if (node !== null) {\n",
    "      inOrderTraverseNode(node.left, callback);\n",
    "      callback(node.key);\n",
    "      inOrderTraverseNode(node.right, callback);\n",
    "    }\n",
    "  };\n",
    "\n",
    "  this.preOrderTraverse = function (callback) {\n",
    "    preOrderTraverseNode(root, callback);\n",
    "  };\n",
    "\n",
    "  var preOrderTraverseNode = function (node, callback) {\n",
    "    if (node !== null) {\n",
    "      callback(node.key);\n",
    "      preOrderTraverseNode(node.left, callback);\n",
    "      preOrderTraverseNode(node.right, callback);\n",
    "    }\n",
    "  };\n",
    "\n",
    "  this.postOrderTraverse = function (callback) {\n",
    "    postOrderTraverseNode(root, callback);\n",
    "  };\n",
    "\n",
    "  var postOrderTraverseNode = function (node, callback) {\n",
    "    if (node !== null) {\n",
    "      postOrderTraverseNode(node.left, callback);\n",
    "      postOrderTraverseNode(node.right, callback);\n",
    "      callback(node.key);\n",
    "    }\n",
    "  };\n",
    "\n",
    "  this.min = function () {\n",
    "    return minNode(root);\n",
    "  };\n",
    "\n",
    "  var minNode = function (node) {\n",
    "    if (node) {\n",
    "      while (node && node.left !== null) {\n",
    "        node = node.left;\n",
    "      }\n",
    "\n",
    "      return node.key;\n",
    "    }\n",
    "    return null;\n",
    "  };\n",
    "\n",
    "  this.max = function () {\n",
    "    return maxNode(root);\n",
    "  };\n",
    "\n",
    "  var maxNode = function (node) {\n",
    "    if (node) {\n",
    "      while (node && node.right !== null) {\n",
    "        node = node.right;\n",
    "      }\n",
    "\n",
    "      return node.key;\n",
    "    }\n",
    "    return null;\n",
    "  };\n",
    "\n",
    "  this.remove = function (element) {\n",
    "    root = removeNode(root, element);\n",
    "  };\n",
    "\n",
    "  var findMinNode = function (node) {\n",
    "    while (node && node.left !== null) {\n",
    "      node = node.left;\n",
    "    }\n",
    "\n",
    "    return node;\n",
    "  };\n",
    "\n",
    "  var removeNode = function (node, element) {\n",
    "\n",
    "    if (node === null) {\n",
    "      return null;\n",
    "    }\n",
    "\n",
    "    if (element < node.key) {\n",
    "      node.left = removeNode(node.left, element);\n",
    "      return node;\n",
    "\n",
    "    } else if (element > node.key) {\n",
    "      node.right = removeNode(node.right, element);\n",
    "      return node;\n",
    "\n",
    "    } else { //element is equal to node.item\n",
    "\n",
    "      //handle 3 special conditions\n",
    "      //1 - a leaf node\n",
    "      //2 - a node with only 1 child\n",
    "      //3 - a node with 2 children\n",
    "\n",
    "      //case 1\n",
    "      if (node.left === null && node.right === null) {\n",
    "        node = null;\n",
    "        return node;\n",
    "      }\n",
    "\n",
    "      //case 2\n",
    "      if (node.left === null) {\n",
    "        node = node.right;\n",
    "        return node;\n",
    "\n",
    "      } else if (node.right === null) {\n",
    "        node = node.left;\n",
    "        return node;\n",
    "      }\n",
    "\n",
    "      //case 3\n",
    "      var aux = findMinNode(node.right);\n",
    "      node.key = aux.key;\n",
    "      node.right = removeNode(node.right, aux.key);\n",
    "      return node;\n",
    "    }\n",
    "  };\n",
    "}\n"
   ]
  },
  {
   "cell_type": "markdown",
   "metadata": {},
   "source": [
    "* Inserting a key in a tree"
   ]
  },
  {
   "cell_type": "code",
   "execution_count": null,
   "metadata": {
    "collapsed": true
   },
   "outputs": [],
   "source": [
    "# %load chapter08/02-UsingBinarySearchTree.js\n",
    "var tree = new BinarySearchTree();\n",
    "\n",
    "tree.insert(11);\n",
    "tree.insert(7);\n",
    "tree.insert(15);\n",
    "tree.insert(5);\n",
    "tree.insert(3);\n",
    "tree.insert(9);\n",
    "tree.insert(8);\n",
    "tree.insert(10);\n",
    "tree.insert(13);\n",
    "tree.insert(12);\n",
    "tree.insert(14);\n",
    "tree.insert(20);\n",
    "tree.insert(18);\n",
    "tree.insert(25);\n",
    "tree.insert(6);\n",
    "\n",
    "console.log('********* in-order transverse ***********');\n",
    "\n",
    "function printNode(value) {\n",
    "  console.log(value);\n",
    "}\n",
    "tree.inOrderTraverse(printNode);\n",
    "\n",
    "console.log('********* pre-order transverse ***********');\n",
    "tree.preOrderTraverse(printNode);\n",
    "\n",
    "console.log('********* post-order transverse ***********');\n",
    "tree.postOrderTraverse(printNode);\n",
    "\n",
    "\n",
    "console.log('********* max and min ***********');\n",
    "console.log(tree.max());\n",
    "console.log(tree.min());\n",
    "console.log(tree.search(1) ? 'Key 1 found.' : 'Key 1 not found.');\n",
    "console.log(tree.search(8) ? 'Key 8 found.' : 'Key 8 not found.');\n",
    "\n",
    "\n",
    "console.log('********* remove 6 ***********');\n",
    "tree.remove(6);\n",
    "tree.inOrderTraverse(printNode);\n",
    "\n",
    "console.log('********* remove 5 ***********');\n",
    "tree.remove(5);\n",
    "tree.inOrderTraverse(printNode);\n",
    "\n",
    "console.log('********* remove 15 ***********');\n",
    "tree.remove(15);\n",
    "tree.inOrderTraverse(printNode);\n",
    "\n",
    "console.log('********* raw data structure ***********');\n",
    "console.log(tree.getRoot());\n"
   ]
  },
  {
   "cell_type": "markdown",
   "metadata": {},
   "source": [
    "## 8.3 Tree traversal"
   ]
  },
  {
   "cell_type": "markdown",
   "metadata": {},
   "source": [
    "* In-order traversal\n",
    "\n",
    "* Pre-order traversal\n",
    "\n",
    "* Post-order traversal"
   ]
  },
  {
   "cell_type": "markdown",
   "metadata": {},
   "source": [
    "## 8.4 Searching for values in a tree"
   ]
  },
  {
   "cell_type": "markdown",
   "metadata": {},
   "source": [
    "* Searching for minimum and maximum values\n",
    "\n",
    "* Searching for a specific value\n",
    "\n",
    "* Removing a node"
   ]
  },
  {
   "cell_type": "markdown",
   "metadata": {},
   "source": [
    "## 8.5 More about binary trees"
   ]
  },
  {
   "cell_type": "markdown",
   "metadata": {},
   "source": [
    "## 8.6 Summary"
   ]
  },
  {
   "cell_type": "markdown",
   "metadata": {},
   "source": [
    "In this chapter, we covered the algorithms to add, search, and remove items from a binary search tree, which is the basic tree data structure largely used in Computer Science.  \n",
    "We also covered three traversal approaches to visit all the nodes of a tree.  \n",
    "In the next chapter, we will study the basic concepts of graphs, which is also a non linear data structure.  \n",
    "  \n"
   ]
  },
  {
   "cell_type": "code",
   "execution_count": null,
   "metadata": {
    "collapsed": true
   },
   "outputs": [],
   "source": []
  }
 ],
 "metadata": {
  "kernelspec": {
   "display_name": "Python 3",
   "language": "python",
   "name": "python3"
  },
  "language_info": {
   "codemirror_mode": {
    "name": "ipython",
    "version": 3
   },
   "file_extension": ".py",
   "mimetype": "text/x-python",
   "name": "python",
   "nbconvert_exporter": "python",
   "pygments_lexer": "ipython3",
   "version": "3.6.0"
  }
 },
 "nbformat": 4,
 "nbformat_minor": 2
}
