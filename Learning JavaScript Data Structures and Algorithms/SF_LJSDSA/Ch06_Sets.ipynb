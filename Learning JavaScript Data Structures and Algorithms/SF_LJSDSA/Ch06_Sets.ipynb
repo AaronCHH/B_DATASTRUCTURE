{
 "cells": [
  {
   "cell_type": "markdown",
   "metadata": {},
   "source": [
    "# Ch06 Sets"
   ]
  },
  {
   "cell_type": "markdown",
   "metadata": {},
   "source": [
    "<div id=\"toc\"></div>"
   ]
  },
  {
   "cell_type": "markdown",
   "metadata": {},
   "source": [
    "## 6.1 Creating a set"
   ]
  },
  {
   "cell_type": "code",
   "execution_count": null,
   "metadata": {
    "collapsed": true
   },
   "outputs": [],
   "source": [
    "# %load chapter06/01-Set.js\n",
    "/**\n",
    " * ECMSCRIPT 6 already have a Set class implementation:\n",
    " * https://developer.mozilla.org/en-US/docs/Web/JavaScript/Reference/Global_Objects/Set\n",
    " * We will try to copy  the same functionalities\n",
    " * @constructor\n",
    " */\n",
    "function Set() {\n",
    "\n",
    "  var items = {};\n",
    "\n",
    "  this.add = function (value) {\n",
    "    if (!this.has(value)) {\n",
    "      items[value] = value;\n",
    "      return true;\n",
    "    }\n",
    "    return false;\n",
    "  };\n",
    "\n",
    "  this.remove = function (value) {\n",
    "    if (this.has(value)) {\n",
    "      delete items[value];\n",
    "      return true;\n",
    "    }\n",
    "    return false;\n",
    "  };\n",
    "\n",
    "  this.has = function (value) {\n",
    "    return items.hasOwnProperty(value);\n",
    "    //return value in items;\n",
    "  };\n",
    "\n",
    "  this.clear = function () {\n",
    "    items = {};\n",
    "  };\n",
    "\n",
    "  /**\n",
    "   * Modern browsers function\n",
    "   * IE9+, FF4+, Chrome5+, Opera12+, Safari5+\n",
    "   * @returns {Number}\n",
    "   */\n",
    "  this.size = function () {\n",
    "    return Object.keys(items).length;\n",
    "  };\n",
    "\n",
    "  /**\n",
    "   * cross browser compatibility - legacy browsers\n",
    "   * for modern browsers use size function\n",
    "   * @returns {number}\n",
    "   */\n",
    "  this.sizeLegacy = function () {\n",
    "    var count = 0;\n",
    "    for (var prop in items) {\n",
    "      if (items.hasOwnProperty(prop))\n",
    "        ++count;\n",
    "    }\n",
    "    return count;\n",
    "  };\n",
    "\n",
    "  /**\n",
    "   * Modern browsers function\n",
    "   * IE9+, FF4+, Chrome5+, Opera12+, Safari5+\n",
    "   * @returns {Array}\n",
    "   */\n",
    "  this.values = function () {\n",
    "    return Object.keys(items);\n",
    "  };\n",
    "\n",
    "  this.valuesLegacy = function () {\n",
    "    var keys = [];\n",
    "    for (var key in items) {\n",
    "      keys.push(key);\n",
    "    }\n",
    "    return keys;\n",
    "  };\n",
    "\n",
    "  this.getItems = function () {\n",
    "    return items;\n",
    "  };\n",
    "\n",
    "  this.union = function (otherSet) {\n",
    "    var unionSet = new Set(); //{1}\n",
    "\n",
    "    var values = this.values(); //{2}\n",
    "    for (var i = 0; i < values.length; i++) {\n",
    "      unionSet.add(values[i]);\n",
    "    }\n",
    "\n",
    "    values = otherSet.values(); //{3}\n",
    "    for (var i = 0; i < values.length; i++) {\n",
    "      unionSet.add(values[i]);\n",
    "    }\n",
    "\n",
    "    return unionSet;\n",
    "  };\n",
    "\n",
    "  this.intersection = function (otherSet) {\n",
    "    var intersectionSet = new Set(); //{1}\n",
    "\n",
    "    var values = this.values();\n",
    "    for (var i = 0; i < values.length; i++) { //{2}\n",
    "      if (otherSet.has(values[i])) { //{3}\n",
    "        intersectionSet.add(values[i]); //{4}\n",
    "      }\n",
    "    }\n",
    "\n",
    "    return intersectionSet;\n",
    "  };\n",
    "\n",
    "  this.difference = function (otherSet) {\n",
    "    var differenceSet = new Set(); //{1}\n",
    "\n",
    "    var values = this.values();\n",
    "    for (var i = 0; i < values.length; i++) { //{2}\n",
    "      if (!otherSet.has(values[i])) { //{3}\n",
    "        differenceSet.add(values[i]); //{4}\n",
    "      }\n",
    "    }\n",
    "\n",
    "    return differenceSet;\n",
    "  };\n",
    "\n",
    "  this.subset = function (otherSet) {\n",
    "\n",
    "    if (this.size() > otherSet.size()) { //{1}\n",
    "      return false;\n",
    "    } else {\n",
    "      var values = this.values();\n",
    "      for (var i = 0; i < values.length; i++) { //{2}\n",
    "        if (!otherSet.has(values[i])) { //{3}\n",
    "          return false; //{4}\n",
    "        }\n",
    "      }\n",
    "      return true;\n",
    "    }\n",
    "  };\n",
    "}\n"
   ]
  },
  {
   "cell_type": "markdown",
   "metadata": {},
   "source": [
    "* The has (value) method\n",
    "\n",
    "* The add method\n",
    "\n",
    "* The remove and clear methods\n",
    "\n",
    "* The size method\n",
    "\n",
    "* The values method\n",
    "\n",
    "* Using the Set class"
   ]
  },
  {
   "cell_type": "code",
   "execution_count": null,
   "metadata": {
    "collapsed": true
   },
   "outputs": [],
   "source": [
    "# %load chapter06/02-UsingSets.js\n",
    "var set = new Set();"
   ]
  },
  {
   "cell_type": "code",
   "execution_count": null,
   "metadata": {
    "collapsed": true
   },
   "outputs": [],
   "source": [
    "set.add(1);\n",
    "console.log(set.values()); //outputs [\"1\"]\n",
    "console.log(set.has(1));   //outputs true\n",
    "console.log(set.size());   //outputs 1"
   ]
  },
  {
   "cell_type": "code",
   "execution_count": null,
   "metadata": {
    "collapsed": true
   },
   "outputs": [],
   "source": [
    "set.add(2);\n",
    "console.log(set.values()); //outputs [\"1\", \"2\"]\n",
    "console.log(set.has(2));   //true\n",
    "console.log(set.size());   //2\n",
    "console.log(set.sizeLegacy());   //3"
   ]
  },
  {
   "cell_type": "code",
   "execution_count": null,
   "metadata": {
    "collapsed": true
   },
   "outputs": [],
   "source": [
    "set.remove(1);\n",
    "console.log(set.values()); //outputs [\"2\"]"
   ]
  },
  {
   "cell_type": "code",
   "execution_count": null,
   "metadata": {
    "collapsed": true
   },
   "outputs": [],
   "source": [
    "set.remove(2);\n",
    "console.log(set.values()); //outputs []"
   ]
  },
  {
   "cell_type": "markdown",
   "metadata": {},
   "source": [
    "## 6.2 Set operations"
   ]
  },
  {
   "cell_type": "markdown",
   "metadata": {},
   "source": [
    "* Set union"
   ]
  },
  {
   "cell_type": "code",
   "execution_count": null,
   "metadata": {
    "collapsed": true
   },
   "outputs": [],
   "source": [
    "# %load chapter06/03-Operations.js\n",
    "//--------- Union ----------\n",
    "\n",
    "var setA = new Set();\n",
    "setA.add(1);\n",
    "setA.add(2);\n",
    "setA.add(3);\n",
    "\n",
    "var setB = new Set();\n",
    "setB.add(3);\n",
    "setB.add(4);\n",
    "setB.add(5);\n",
    "setB.add(6);\n",
    "\n",
    "var unionAB = setA.union(setB);\n",
    "console.log(unionAB.values());"
   ]
  },
  {
   "cell_type": "markdown",
   "metadata": {},
   "source": [
    "* Set intersection"
   ]
  },
  {
   "cell_type": "code",
   "execution_count": null,
   "metadata": {
    "collapsed": true
   },
   "outputs": [],
   "source": [
    "//--------- Intersection ----------\n",
    "\n",
    "var setA = new Set();\n",
    "setA.add(1);\n",
    "setA.add(2);\n",
    "setA.add(3);\n",
    "\n",
    "var setB = new Set();\n",
    "setB.add(2);\n",
    "setB.add(3);\n",
    "setB.add(4);\n",
    "\n",
    "var intersectionAB = setA.intersection(setB);\n",
    "console.log(intersectionAB.values());"
   ]
  },
  {
   "cell_type": "markdown",
   "metadata": {},
   "source": [
    "* Set difference"
   ]
  },
  {
   "cell_type": "code",
   "execution_count": null,
   "metadata": {
    "collapsed": true
   },
   "outputs": [],
   "source": [
    "//--------- Difference ----------\n",
    "\n",
    "var setA = new Set();\n",
    "setA.add(1);\n",
    "setA.add(2);\n",
    "setA.add(3);\n",
    "\n",
    "var setB = new Set();\n",
    "setB.add(2);\n",
    "setB.add(3);\n",
    "setB.add(4);\n",
    "\n",
    "var differenceAB = setA.difference(setB);\n",
    "console.log(differenceAB.values());"
   ]
  },
  {
   "cell_type": "markdown",
   "metadata": {},
   "source": [
    "* Subset"
   ]
  },
  {
   "cell_type": "code",
   "execution_count": null,
   "metadata": {
    "collapsed": true
   },
   "outputs": [],
   "source": [
    "//--------- Subset ----------\n",
    "\n",
    "var setA = new Set();\n",
    "setA.add(1);\n",
    "setA.add(2);\n",
    "\n",
    "var setB = new Set();\n",
    "setB.add(1);\n",
    "setB.add(2);\n",
    "setB.add(3);\n",
    "\n",
    "var setC = new Set();\n",
    "setC.add(2);\n",
    "setC.add(3);\n",
    "setC.add(4);\n",
    "\n",
    "console.log(setA.subset(setB));\n",
    "console.log(setA.subset(setC));"
   ]
  },
  {
   "cell_type": "markdown",
   "metadata": {},
   "source": [
    "## 6.3 Summary"
   ]
  },
  {
   "cell_type": "markdown",
   "metadata": {},
   "source": [
    "In this chapter, we learned how to implement a Set class from scratch, __which is similar to the Set class defined in the definition of ECMAScript 6__.  \n",
    "We also covered some methods that are not usually in other programming language implementations of the set data structure, such as union, intersection, difference, and subset.  \n",
    "So, we implemented a very complete Set class compared to the current implementation of Set in other programming languages.  \n",
    "In the next chapter, we will cover hashes and dictionaries, which are non sequential data structures.  \n",
    "  \n"
   ]
  },
  {
   "cell_type": "code",
   "execution_count": null,
   "metadata": {
    "collapsed": true
   },
   "outputs": [],
   "source": []
  }
 ],
 "metadata": {
  "kernelspec": {
   "display_name": "Python 3",
   "language": "python",
   "name": "python3"
  },
  "language_info": {
   "codemirror_mode": {
    "name": "ipython",
    "version": 3
   },
   "file_extension": ".py",
   "mimetype": "text/x-python",
   "name": "python",
   "nbconvert_exporter": "python",
   "pygments_lexer": "ipython3",
   "version": "3.6.0"
  }
 },
 "nbformat": 4,
 "nbformat_minor": 2
}
