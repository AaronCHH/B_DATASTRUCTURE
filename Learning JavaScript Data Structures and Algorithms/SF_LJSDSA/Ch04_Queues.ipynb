{
 "cells": [
  {
   "cell_type": "markdown",
   "metadata": {},
   "source": [
    "# Ch04 Queues"
   ]
  },
  {
   "cell_type": "markdown",
   "metadata": {},
   "source": [
    "<div id=\"toc\"></div>\n"
   ]
  },
  {
   "cell_type": "markdown",
   "metadata": {},
   "source": [
    "## 4.1 Creating a queue"
   ]
  },
  {
   "cell_type": "markdown",
   "metadata": {},
   "source": [
    "* The complete Queue class"
   ]
  },
  {
   "cell_type": "code",
   "execution_count": null,
   "metadata": {
    "collapsed": true
   },
   "outputs": [],
   "source": [
    "# %load chapter04/01-Queue.js\n",
    "function Queue() {\n",
    "\n",
    "    var items = [];\n",
    "\n",
    "    this.enqueue = function(element){\n",
    "        items.push(element);\n",
    "    };\n",
    "\n",
    "    this.dequeue = function(){\n",
    "        return items.shift();\n",
    "    };\n",
    "\n",
    "    this.front = function(){\n",
    "        return items[0];\n",
    "    };\n",
    "\n",
    "    this.isEmpty = function(){\n",
    "        return items.length == 0;\n",
    "    };\n",
    "\n",
    "    this.clear = function(){\n",
    "        items = [];\n",
    "    };\n",
    "\n",
    "    this.size = function(){\n",
    "        return items.length;\n",
    "    };\n",
    "\n",
    "    this.print = function(){\n",
    "        console.log(items.toString());\n",
    "    };\n",
    "}\n"
   ]
  },
  {
   "cell_type": "markdown",
   "metadata": {},
   "source": [
    "* Using the Queue class"
   ]
  },
  {
   "cell_type": "code",
   "execution_count": null,
   "metadata": {
    "collapsed": true
   },
   "outputs": [],
   "source": [
    "# %load chapter04/02-UsingQueues.js\n",
    "var queue = new Queue();\n",
    "console.log(queue.isEmpty()); //outputs true\n",
    "\n",
    "queue.enqueue(\"John\");\n",
    "queue.enqueue(\"Jack\");\n",
    "queue.print();\n",
    "\n",
    "queue.enqueue(\"Camila\");\n",
    "queue.print();\n",
    "\n",
    "console.log(queue.size()); //outputs 3\n",
    "console.log(queue.isEmpty()); //outputs false\n",
    "\n",
    "queue.dequeue();\n",
    "queue.dequeue();\n",
    "queue.print();\n"
   ]
  },
  {
   "cell_type": "markdown",
   "metadata": {},
   "source": [
    "## 4.2 The priority queue"
   ]
  },
  {
   "cell_type": "code",
   "execution_count": null,
   "metadata": {
    "collapsed": true
   },
   "outputs": [],
   "source": [
    "# %load chapter04/03-PriorityQueue.js\n",
    "function PriorityQueue() {\n",
    "\n",
    "  var items = [];\n",
    "\n",
    "  function QueueElement(element, priority) {\n",
    "    this.element = element;\n",
    "    this.priority = priority;\n",
    "  }\n",
    "\n",
    "  this.enqueue = function (element, priority) {\n",
    "    var queueElement = new QueueElement(element, priority);\n",
    "\n",
    "    if (this.isEmpty()) {\n",
    "      items.push(queueElement);\n",
    "    } else {\n",
    "      var added = false;\n",
    "      for (var i = 0; i < items.length; i++) {\n",
    "        if (queueElement.priority < items[i].priority) {\n",
    "          items.splice(i, 0, queueElement);\n",
    "          added = true;\n",
    "          break;\n",
    "        }\n",
    "      }\n",
    "      if (!added) {\n",
    "        items.push(queueElement);\n",
    "      }\n",
    "    }\n",
    "  };\n",
    "\n",
    "  this.dequeue = function () {\n",
    "    return items.shift();\n",
    "  };\n",
    "\n",
    "  this.front = function () {\n",
    "    return items[0];\n",
    "  };\n",
    "\n",
    "  this.isEmpty = function () {\n",
    "    return items.length == 0;\n",
    "  };\n",
    "\n",
    "  this.size = function () {\n",
    "    return items.length;\n",
    "  };\n",
    "\n",
    "  this.print = function () {\n",
    "    for (var i = 0; i < items.length; i++) {\n",
    "      console.log(items[i].element + ' - ' + items[i].priority);\n",
    "    }\n",
    "  };\n",
    "}\n",
    "\n",
    "var priorityQueue = new PriorityQueue();\n",
    "priorityQueue.enqueue(\"John\", 2);\n",
    "priorityQueue.enqueue(\"Jack\", 1);\n",
    "priorityQueue.enqueue(\"Camila\", 1);\n",
    "priorityQueue.enqueue(\"Maxwell\", 2);\n",
    "priorityQueue.enqueue(\"Ana\", 3);\n",
    "priorityQueue.print();\n"
   ]
  },
  {
   "cell_type": "markdown",
   "metadata": {},
   "source": [
    "## 4.3 The circular queue Hot Potato"
   ]
  },
  {
   "cell_type": "code",
   "execution_count": null,
   "metadata": {
    "collapsed": true
   },
   "outputs": [],
   "source": [
    "# %load chapter04/04-HotPotato.js\n",
    "function hotPotato(nameList, num) {\n",
    "\n",
    "  var queue = new Queue();\n",
    "\n",
    "  for (var i = 0; i < nameList.length; i++) {\n",
    "    queue.enqueue(nameList[i]);\n",
    "  }\n",
    "\n",
    "  var eliminated = '';\n",
    "  while (queue.size() > 1) {\n",
    "    for (var i = 0; i < num; i++) {\n",
    "      queue.enqueue(queue.dequeue());\n",
    "    }\n",
    "    eliminated = queue.dequeue();\n",
    "    console.log(eliminated + ' was eliminated from the Hot Potato game.');\n",
    "  }\n",
    "\n",
    "  return queue.dequeue();\n",
    "}\n",
    "\n",
    "var names = ['John', 'Jack', 'Camila', 'Ingrid', 'Carl'];\n",
    "var winner = hotPotato(names, 7);\n",
    "console.log('The winner is: ' + winner);\n"
   ]
  },
  {
   "cell_type": "markdown",
   "metadata": {},
   "source": [
    "## 4.4 Summary"
   ]
  },
  {
   "cell_type": "markdown",
   "metadata": {},
   "source": [
    "In this chapter, you learned about the queue data structure.  \n",
    "We implemented our own algorithm that represents a queue; you learned how to add and remove elements from it using the enqueue and dequeue methods.  \n",
    "We also covered two very famous special implementations of the queue: the priority queue and the circular queue (using the Hot Potato game implementation).  \n",
    "In the next chapter, you will learn about linked lists, a more complex data structure than the array.  \n",
    "\n"
   ]
  },
  {
   "cell_type": "code",
   "execution_count": null,
   "metadata": {
    "collapsed": true
   },
   "outputs": [],
   "source": []
  }
 ],
 "metadata": {
  "kernelspec": {
   "display_name": "Python 3",
   "language": "python",
   "name": "python3"
  },
  "language_info": {
   "codemirror_mode": {
    "name": "ipython",
    "version": 3
   },
   "file_extension": ".py",
   "mimetype": "text/x-python",
   "name": "python",
   "nbconvert_exporter": "python",
   "pygments_lexer": "ipython3",
   "version": "3.6.0"
  }
 },
 "nbformat": 4,
 "nbformat_minor": 2
}
