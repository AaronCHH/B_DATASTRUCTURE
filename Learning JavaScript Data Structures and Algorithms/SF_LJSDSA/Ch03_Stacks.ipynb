{
 "cells": [
  {
   "cell_type": "markdown",
   "metadata": {},
   "source": [
    "# Ch03 Stacks"
   ]
  },
  {
   "cell_type": "markdown",
   "metadata": {},
   "source": [
    "<div id=\"toc\"></div>\n"
   ]
  },
  {
   "cell_type": "markdown",
   "metadata": {},
   "source": [
    "## 3.1 Creating a stack"
   ]
  },
  {
   "cell_type": "markdown",
   "metadata": {},
   "source": [
    "* The complete Stack class"
   ]
  },
  {
   "cell_type": "code",
   "execution_count": 1,
   "metadata": {
    "collapsed": false
   },
   "outputs": [
    {
     "data": {
      "text/plain": [
       "undefined"
      ]
     },
     "execution_count": 1,
     "metadata": {},
     "output_type": "execute_result"
    }
   ],
   "source": [
    "// # %load chapter03/01-Stack.js\n",
    "function Stack() {\n",
    "\n",
    "  var items = [];\n",
    "\n",
    "  this.push = function (element) {\n",
    "    items.push(element);\n",
    "  };\n",
    "\n",
    "  this.pop = function () {\n",
    "    return items.pop();\n",
    "  };\n",
    "\n",
    "  this.peek = function () {\n",
    "    return items[items.length - 1];\n",
    "  };\n",
    "\n",
    "  this.isEmpty = function () {\n",
    "    return items.length == 0;\n",
    "  };\n",
    "\n",
    "  this.size = function () {\n",
    "    return items.length;\n",
    "  };\n",
    "\n",
    "  this.clear = function () {\n",
    "    items = [];\n",
    "  };\n",
    "\n",
    "  this.print = function () {\n",
    "    console.log(items.toString());\n",
    "  };\n",
    "\n",
    "  this.toString = function () {\n",
    "    return items.toString();\n",
    "  };\n",
    "}\n"
   ]
  },
  {
   "cell_type": "markdown",
   "metadata": {},
   "source": [
    "* Using the Stack class"
   ]
  },
  {
   "cell_type": "code",
   "execution_count": 2,
   "metadata": {
    "collapsed": false
   },
   "outputs": [
    {
     "name": "stdout",
     "output_type": "stream",
     "text": [
      "true\n"
     ]
    },
    {
     "data": {
      "text/plain": [
       "undefined"
      ]
     },
     "execution_count": 2,
     "metadata": {},
     "output_type": "execute_result"
    }
   ],
   "source": [
    "// # %load chapter03/02-UsingStacks.js\n",
    "var stack = new Stack();\n",
    "\n",
    "console.log(stack.isEmpty()); //outputs true"
   ]
  },
  {
   "cell_type": "code",
   "execution_count": 3,
   "metadata": {
    "collapsed": false
   },
   "outputs": [
    {
     "data": {
      "text/plain": [
       "undefined"
      ]
     },
     "execution_count": 3,
     "metadata": {},
     "output_type": "execute_result"
    }
   ],
   "source": [
    "stack.push(5);"
   ]
  },
  {
   "cell_type": "code",
   "execution_count": 4,
   "metadata": {
    "collapsed": false
   },
   "outputs": [
    {
     "data": {
      "text/plain": [
       "undefined"
      ]
     },
     "execution_count": 4,
     "metadata": {},
     "output_type": "execute_result"
    }
   ],
   "source": [
    "stack.push(8);"
   ]
  },
  {
   "cell_type": "code",
   "execution_count": 5,
   "metadata": {
    "collapsed": false
   },
   "outputs": [
    {
     "name": "stdout",
     "output_type": "stream",
     "text": [
      "8\n"
     ]
    },
    {
     "data": {
      "text/plain": [
       "undefined"
      ]
     },
     "execution_count": 5,
     "metadata": {},
     "output_type": "execute_result"
    }
   ],
   "source": [
    "console.log(stack.peek()); // outputs 8"
   ]
  },
  {
   "cell_type": "code",
   "execution_count": 6,
   "metadata": {
    "collapsed": false
   },
   "outputs": [
    {
     "data": {
      "text/plain": [
       "undefined"
      ]
     },
     "execution_count": 6,
     "metadata": {},
     "output_type": "execute_result"
    }
   ],
   "source": [
    "stack.push(11);"
   ]
  },
  {
   "cell_type": "code",
   "execution_count": 7,
   "metadata": {
    "collapsed": false
   },
   "outputs": [
    {
     "name": "stdout",
     "output_type": "stream",
     "text": [
      "3\n",
      "false\n"
     ]
    },
    {
     "data": {
      "text/plain": [
       "undefined"
      ]
     },
     "execution_count": 7,
     "metadata": {},
     "output_type": "execute_result"
    }
   ],
   "source": [
    "console.log(stack.size()); // outputs 3\n",
    "console.log(stack.isEmpty()); //outputs false\n",
    "stack.push(15);"
   ]
  },
  {
   "cell_type": "code",
   "execution_count": 8,
   "metadata": {
    "collapsed": false
   },
   "outputs": [
    {
     "data": {
      "text/plain": [
       "15"
      ]
     },
     "execution_count": 8,
     "metadata": {},
     "output_type": "execute_result"
    }
   ],
   "source": [
    "stack.pop();"
   ]
  },
  {
   "cell_type": "code",
   "execution_count": 9,
   "metadata": {
    "collapsed": false
   },
   "outputs": [
    {
     "data": {
      "text/plain": [
       "11"
      ]
     },
     "execution_count": 9,
     "metadata": {},
     "output_type": "execute_result"
    }
   ],
   "source": [
    "stack.pop();"
   ]
  },
  {
   "cell_type": "code",
   "execution_count": 10,
   "metadata": {
    "collapsed": false
   },
   "outputs": [
    {
     "name": "stdout",
     "output_type": "stream",
     "text": [
      "2\n"
     ]
    },
    {
     "data": {
      "text/plain": [
       "undefined"
      ]
     },
     "execution_count": 10,
     "metadata": {},
     "output_type": "execute_result"
    }
   ],
   "source": [
    "console.log(stack.size()); // outputs 2"
   ]
  },
  {
   "cell_type": "code",
   "execution_count": 11,
   "metadata": {
    "collapsed": false
   },
   "outputs": [
    {
     "name": "stdout",
     "output_type": "stream",
     "text": [
      "5,8\n"
     ]
    },
    {
     "data": {
      "text/plain": [
       "undefined"
      ]
     },
     "execution_count": 11,
     "metadata": {},
     "output_type": "execute_result"
    }
   ],
   "source": [
    "stack.print(); // outputs [5, 8]"
   ]
  },
  {
   "cell_type": "markdown",
   "metadata": {},
   "source": [
    "## 3.2 Decimal to binary"
   ]
  },
  {
   "cell_type": "code",
   "execution_count": null,
   "metadata": {
    "collapsed": true
   },
   "outputs": [],
   "source": [
    "// # %load chapter03/04-DecimalToBinary.js\n",
    "//233 == 11101001\n",
    "//2x(10x10) + 3x(10) + 3x(1)\n",
    "\n",
    "function divideBy2(decNumber) {\n",
    "\n",
    "  var remStack = new Stack(),\n",
    "    rem,\n",
    "    binaryString = '';\n",
    "\n",
    "  while (decNumber > 0) {\n",
    "    rem = Math.floor(decNumber % 2);\n",
    "    remStack.push(rem);\n",
    "    decNumber = Math.floor(decNumber / 2);\n",
    "  }\n",
    "\n",
    "  while (!remStack.isEmpty()) {\n",
    "    binaryString += remStack.pop().toString();\n",
    "  }\n",
    "\n",
    "  return binaryString;\n",
    "}\n",
    "\n",
    "console.log(divideBy2(233));\n",
    "console.log(divideBy2(10));\n",
    "console.log(divideBy2(1000));\n",
    "\n",
    "/*\n",
    "    The folow algorithm converts from base 10 to any base\n",
    " */\n",
    "function baseConverter(decNumber, base) {\n",
    "\n",
    "  var remStack = new Stack(),\n",
    "    rem,\n",
    "    baseString = '',\n",
    "    digits = '0123456789ABCDEF';\n",
    "\n",
    "  while (decNumber > 0) {\n",
    "    rem = Math.floor(decNumber % base);\n",
    "    remStack.push(rem);\n",
    "    decNumber = Math.floor(decNumber / base);\n",
    "  }\n",
    "\n",
    "  while (!remStack.isEmpty()) {\n",
    "    baseString += digits[remStack.pop()];\n",
    "  }\n",
    "\n",
    "  return baseString;\n",
    "}\n",
    "\n",
    "console.log(baseConverter(100345, 2));\n",
    "console.log(baseConverter(100345, 8));\n",
    "console.log(baseConverter(100345, 16));\n"
   ]
  },
  {
   "cell_type": "code",
   "execution_count": null,
   "metadata": {
    "collapsed": true
   },
   "outputs": [],
   "source": [
    "// # %load chapter03/05-TowerOfHanoi.js\n",
    "function towerOfHanoi(n, from, to, helper) {\n",
    "\n",
    "  if (n > 0) {\n",
    "    towerOfHanoi(n - 1, from, helper, to);\n",
    "    to.push(from.pop());\n",
    "    console.log('-----')\n",
    "    console.log('Source: ' + from.toString());\n",
    "    console.log('Dest: ' + to.toString());\n",
    "    console.log('Helper: ' + helper.toString());\n",
    "    towerOfHanoi(n - 1, helper, to, from);\n",
    "  }\n",
    "}\n",
    "\n",
    "var source = new Stack();\n",
    "source.push(3);\n",
    "source.push(2);\n",
    "source.push(1);\n",
    "\n",
    "var dest = new Stack();\n",
    "var helper = new Stack();\n",
    "\n",
    "towerOfHanoi(3, source, dest, helper);\n",
    "\n",
    "source.print();\n",
    "helper.print();\n",
    "dest.print();\n"
   ]
  },
  {
   "cell_type": "markdown",
   "metadata": {},
   "source": [
    "## 3.3 Summary"
   ]
  },
  {
   "cell_type": "markdown",
   "metadata": {},
   "source": [
    "In this chapter, you learned about the stack data structure.  \n",
    "We implemented our own algorithm that represents a stack and you learned how to add and remove elements from it using the push and pop methods.  \n",
    "We also covered a very famous example of how to use a stack.  \n",
    "In the next chapter, you will learn about queues, which are very similar to stacks but use a different principle than LIFO.  \n",
    "\n"
   ]
  },
  {
   "cell_type": "code",
   "execution_count": null,
   "metadata": {
    "collapsed": true
   },
   "outputs": [],
   "source": []
  }
 ],
 "metadata": {
  "kernelspec": {
   "display_name": "Javascript (Node.js)",
   "language": "javascript",
   "name": "javascript"
  },
  "language_info": {
   "file_extension": ".js",
   "mimetype": "application/javascript",
   "name": "javascript",
   "version": "7.7.4"
  }
 },
 "nbformat": 4,
 "nbformat_minor": 2
}
